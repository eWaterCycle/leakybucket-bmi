{
 "cells": [
  {
   "cell_type": "markdown",
   "metadata": {},
   "source": [
    "# LeakyBucket model BMI demo\n",
    "\n",
    "In this notebook we demonstrate the leakybucket Basic Model Interface. This BMI has the following model structure implemented:\n",
    "\n",
    "<img src=\"diagram.png\" alt=\"diagram\" width=\"200\"/>\n",
    "\n",
    "The implementation can be found in `src/leakybucket/leakybucket_bmi.py`"
   ]
  },
  {
   "cell_type": "markdown",
   "metadata": {},
   "source": [
    "To be able to initialize the BMI, we need a configuration file which contains the \"leakiness\" parameter, as well as the forcing file locations.\n",
    "\n",
    "For forcing we use the eWaterCycle generic forcing generator. This can generate forcing data with ESMValTool from ERA5 data (if available on your machine), as well as CMIP6 data (which will be downloaded automatically)."
   ]
  },
  {
   "cell_type": "code",
   "execution_count": 15,
   "metadata": {},
   "outputs": [],
   "source": [
    "from leakybucket.leakybucket_bmi import LeakyBucketBmi\n",
    "from ewatercycle.base.forcing import GenericLumpedForcing\n",
    "import ewatercycle.observation.grdc\n",
    "import ewatercycle.analysis\n",
    "from pathlib import Path\n",
    "import pandas as pd\n",
    "import numpy as np\n",
    "\n",
    "shape = Path(ewatercycle.__file__).parent / \"testing/data/Rhine/Rhine.shp\"\n",
    "\n",
    "\n",
    "grdc_station_id = \"6335020\"  # GRDC station ID\n",
    "basin_name = \"Rhine\"\n",
    "\n",
    "experiment_start_time=\"2000-01-01T00:00:00Z\"\n",
    "experiment_end_time=\"2000-12-31T00:00:00Z\"\n"
   ]
  },
  {
   "cell_type": "markdown",
   "metadata": {},
   "source": [
    "TEXT ABOUT CREATING FORCING"
   ]
  },
  {
   "cell_type": "code",
   "execution_count": 8,
   "metadata": {},
   "outputs": [
    {
     "name": "stderr",
     "output_type": "stream",
     "text": [
      "WARNING:esmvalcore.config._dask:Using the Dask basic scheduler. This may lead to slow computations and out-of-memory errors. Note that the basic scheduler may still be the best choice for preprocessor functions that are not lazy. In that case, you can safely ignore this warning. See https://docs.esmvaltool.org/projects/ESMValCore/en/latest/quickstart/configure.html#dask-distributed-configuration for more information. \n",
      "WARNING:esmvalcore._recipe.check:Preprocessor function area_statistics works best when at least one supplementary variable of ['areacella', 'areacello'] is defined in the recipe for Dataset:\n",
      "{'diagnostic': 'diagnostic',\n",
      " 'variable_group': 'pr',\n",
      " 'dataset': 'ERA5',\n",
      " 'project': 'OBS6',\n",
      " 'mip': 'day',\n",
      " 'short_name': 'pr',\n",
      " 'alias': 'ERA5',\n",
      " 'frequency': 'day',\n",
      " 'long_name': 'Precipitation',\n",
      " 'modeling_realm': ['atmos'],\n",
      " 'original_short_name': 'pr',\n",
      " 'preprocessor': 'pr',\n",
      " 'recipe_dataset_index': 0,\n",
      " 'standard_name': 'precipitation_flux',\n",
      " 'tier': 3,\n",
      " 'timerange': '2000/2000',\n",
      " 'type': 'reanaly',\n",
      " 'units': 'kg m-2 s-1',\n",
      " 'version': 1}\n",
      "session: 'ewcrep4xt_3p6h_20240324_151057'.\n",
      "WARNING:esmvalcore._recipe.check:Preprocessor function area_statistics works best when at least one supplementary variable of ['areacella', 'areacello'] is defined in the recipe for Dataset:\n",
      "{'diagnostic': 'diagnostic',\n",
      " 'variable_group': 'tas',\n",
      " 'dataset': 'ERA5',\n",
      " 'project': 'OBS6',\n",
      " 'mip': 'day',\n",
      " 'short_name': 'tas',\n",
      " 'alias': 'ERA5',\n",
      " 'frequency': 'day',\n",
      " 'long_name': 'Near-Surface Air Temperature',\n",
      " 'modeling_realm': ['atmos'],\n",
      " 'original_short_name': 'tas',\n",
      " 'preprocessor': 'tas',\n",
      " 'recipe_dataset_index': 0,\n",
      " 'standard_name': 'air_temperature',\n",
      " 'tier': 3,\n",
      " 'timerange': '2000/2000',\n",
      " 'type': 'reanaly',\n",
      " 'units': 'K',\n",
      " 'version': 1}\n",
      "session: 'ewcrep4xt_3p6h_20240324_151057'.\n",
      "WARNING:esmvalcore._recipe.check:Preprocessor function area_statistics works best when at least one supplementary variable of ['areacella', 'areacello'] is defined in the recipe for Dataset:\n",
      "{'diagnostic': 'diagnostic',\n",
      " 'variable_group': 'tasmin',\n",
      " 'dataset': 'ERA5',\n",
      " 'project': 'OBS6',\n",
      " 'mip': 'day',\n",
      " 'short_name': 'tasmin',\n",
      " 'alias': 'ERA5',\n",
      " 'frequency': 'day',\n",
      " 'long_name': 'Daily Minimum Near-Surface Air Temperature',\n",
      " 'modeling_realm': ['atmos'],\n",
      " 'original_short_name': 'tasmin',\n",
      " 'preprocessor': 'tasmin',\n",
      " 'recipe_dataset_index': 0,\n",
      " 'standard_name': 'air_temperature',\n",
      " 'tier': 3,\n",
      " 'timerange': '2000/2000',\n",
      " 'type': 'reanaly',\n",
      " 'units': 'K',\n",
      " 'version': 1}\n",
      "session: 'ewcrep4xt_3p6h_20240324_151057'.\n",
      "WARNING:esmvalcore._recipe.check:Preprocessor function area_statistics works best when at least one supplementary variable of ['areacella', 'areacello'] is defined in the recipe for Dataset:\n",
      "{'diagnostic': 'diagnostic',\n",
      " 'variable_group': 'tasmax',\n",
      " 'dataset': 'ERA5',\n",
      " 'project': 'OBS6',\n",
      " 'mip': 'day',\n",
      " 'short_name': 'tasmax',\n",
      " 'alias': 'ERA5',\n",
      " 'frequency': 'day',\n",
      " 'long_name': 'Daily Maximum Near-Surface Air Temperature',\n",
      " 'modeling_realm': ['atmos'],\n",
      " 'original_short_name': 'tasmax',\n",
      " 'preprocessor': 'tasmax',\n",
      " 'recipe_dataset_index': 0,\n",
      " 'standard_name': 'air_temperature',\n",
      " 'tier': 3,\n",
      " 'timerange': '2000/2000',\n",
      " 'type': 'reanaly',\n",
      " 'units': 'K',\n",
      " 'version': 1}\n",
      "session: 'ewcrep4xt_3p6h_20240324_151057'.\n"
     ]
    }
   ],
   "source": [
    "ERA5_forcing = GenericLumpedForcing.generate(\n",
    "    dataset=\"ERA5\",\n",
    "    start_time=experiment_start_time,\n",
    "    end_time=experiment_end_time,\n",
    "    shape=shape.absolute(),\n",
    ")"
   ]
  },
  {
   "cell_type": "markdown",
   "metadata": {},
   "source": [
    "Now we have the forcing data available we can prepare the configuration file:"
   ]
  },
  {
   "cell_type": "code",
   "execution_count": 9,
   "metadata": {},
   "outputs": [],
   "source": [
    "experiment_config_file = f\"\"\"{{\n",
    "    \"precipitation_file\": \"{ERA5_forcing.directory / ERA5_forcing.pr}\",\n",
    "    \"temperature_file\": \"{ERA5_forcing.directory / ERA5_forcing.tas}\",\n",
    "    \"leakiness\": 0.05\n",
    "}}\n",
    "\"\"\"\n",
    "\n",
    "with open(\"ERA5_leakybucket_config.json\", \"w\") as f:\n",
    "    f.write(experiment_config_file)"
   ]
  },
  {
   "cell_type": "markdown",
   "metadata": {},
   "source": [
    "With the configuration file ready, we can define the model and initialize it. To clearly indicate that we are creating an instance of the class ```LeakyBucketBMI``` we use ```experiment_model``` as the name for the model object for this (demo) experiment."
   ]
  },
  {
   "cell_type": "code",
   "execution_count": 47,
   "metadata": {},
   "outputs": [],
   "source": [
    "experiment_model = LeakyBucketBmi()\n",
    "experiment_model.initialize(config_file=\"ERA5_leakybucket_config.json\")"
   ]
  },
  {
   "cell_type": "markdown",
   "metadata": {},
   "source": [
    "We can now use the `.update()` method to advance the model one time step.\n",
    "After updating the model, we can request the current discharge using `.get_value(\"discharge\")`.\n",
    "\n",
    "We store this discharge in a list. For plotting, we also request the current model time (which is in seconds since 1970), and covert that to a pandas Timestamp."
   ]
  },
  {
   "cell_type": "code",
   "execution_count": 48,
   "metadata": {},
   "outputs": [],
   "source": [
    "discharge = []\n",
    "time = []\n",
    "while experiment_model.get_current_time() < experiment_model.get_end_time():\n",
    "    experiment_model.update()\n",
    "    discharge.append(experiment_model.get_value(\"discharge\", np.array([0.])))\n",
    "    time.append(pd.Timestamp(experiment_model.get_current_time(), unit=\"s\"))"
   ]
  },
  {
   "cell_type": "markdown",
   "metadata": {},
   "source": [
    "We can plot the output discharge directly"
   ]
  },
  {
   "cell_type": "code",
   "execution_count": 49,
   "metadata": {},
   "outputs": [
    {
     "data": {
      "text/plain": [
       "Text(0.5, 0, 'Time')"
      ]
     },
     "execution_count": 49,
     "metadata": {},
     "output_type": "execute_result"
    },
    {
     "data": {
      "image/png": "[encoded data removed]",
      "text/plain": [
       "<Figure size 640x480 with 1 Axes>"
      ]
     },
     "metadata": {},
     "output_type": "display_data"
    }
   ],
   "source": [
    "import matplotlib.pyplot as plt\n",
    "plt.plot(time, discharge)\n",
    "\n",
    "plt.ylabel(f\"Discharge [{experiment_model.get_var_units('discharge')}]\")\n",
    "plt.xlabel(\"Time\")"
   ]
  },
  {
   "cell_type": "markdown",
   "metadata": {},
   "source": [
    "Now we can plot our hydrograph.\n",
    "\n",
    "Note that the unit of discharge is in mm/d. Conversion to m3/s requires the area of the catchment."
   ]
  },
  {
   "cell_type": "code",
   "execution_count": 52,
   "metadata": {},
   "outputs": [
    {
     "data": {
      "text/html": [
       "<div>\n",
       "<style scoped>\n",
       "    .dataframe tbody tr th:only-of-type {\n",
       "        vertical-align: middle;\n",
       "    }\n",
       "\n",
       "    .dataframe tbody tr th {\n",
       "        vertical-align: top;\n",
       "    }\n",
       "\n",
       "    .dataframe thead th {\n",
       "        text-align: right;\n",
       "    }\n",
       "</style>\n",
       "<table border=\"1\" class=\"dataframe\">\n",
       "  <thead>\n",
       "    <tr style=\"text-align: right;\">\n",
       "      <th></th>\n",
       "      <th>model output</th>\n",
       "    </tr>\n",
       "  </thead>\n",
       "  <tbody>\n",
       "    <tr>\n",
       "      <th>2000-01-02 12:00:00</th>\n",
       "      <td>[0.12751837202813476]</td>\n",
       "    </tr>\n",
       "    <tr>\n",
       "      <th>2000-01-03 12:00:00</th>\n",
       "      <td>[0.13580070866737515]</td>\n",
       "    </tr>\n",
       "    <tr>\n",
       "      <th>2000-01-04 12:00:00</th>\n",
       "      <td>[0.13741430452500936]</td>\n",
       "    </tr>\n",
       "    <tr>\n",
       "      <th>2000-01-05 12:00:00</th>\n",
       "      <td>[0.3118573878287862]</td>\n",
       "    </tr>\n",
       "    <tr>\n",
       "      <th>2000-01-06 12:00:00</th>\n",
       "      <td>[0.34970944125172543]</td>\n",
       "    </tr>\n",
       "    <tr>\n",
       "      <th>...</th>\n",
       "      <td>...</td>\n",
       "    </tr>\n",
       "    <tr>\n",
       "      <th>2000-12-27 12:00:00</th>\n",
       "      <td>[2.516473100053885]</td>\n",
       "    </tr>\n",
       "    <tr>\n",
       "      <th>2000-12-28 12:00:00</th>\n",
       "      <td>[2.518817645077457]</td>\n",
       "    </tr>\n",
       "    <tr>\n",
       "      <th>2000-12-29 12:00:00</th>\n",
       "      <td>[2.4784821012140354]</td>\n",
       "    </tr>\n",
       "    <tr>\n",
       "      <th>2000-12-30 12:00:00</th>\n",
       "      <td>[2.480762512717364]</td>\n",
       "    </tr>\n",
       "    <tr>\n",
       "      <th>2000-12-31 12:00:00</th>\n",
       "      <td>[2.4711778735394283]</td>\n",
       "    </tr>\n",
       "  </tbody>\n",
       "</table>\n",
       "<p>365 rows × 1 columns</p>\n",
       "</div>"
      ],
      "text/plain": [
       "                              model output\n",
       "2000-01-02 12:00:00  [0.12751837202813476]\n",
       "2000-01-03 12:00:00  [0.13580070866737515]\n",
       "2000-01-04 12:00:00  [0.13741430452500936]\n",
       "2000-01-05 12:00:00   [0.3118573878287862]\n",
       "2000-01-06 12:00:00  [0.34970944125172543]\n",
       "...                                    ...\n",
       "2000-12-27 12:00:00    [2.516473100053885]\n",
       "2000-12-28 12:00:00    [2.518817645077457]\n",
       "2000-12-29 12:00:00   [2.4784821012140354]\n",
       "2000-12-30 12:00:00    [2.480762512717364]\n",
       "2000-12-31 12:00:00   [2.4711778735394283]\n",
       "\n",
       "[365 rows x 1 columns]"
      ]
     },
     "execution_count": 52,
     "metadata": {},
     "output_type": "execute_result"
    }
   ],
   "source": [
    "discharge_dataframe = pd.DataFrame({'model output': discharge}, index=pd.to_datetime(time))\n",
    "discharge_dataframe"
   ]
  },
  {
   "cell_type": "code",
   "execution_count": 25,
   "metadata": {},
   "outputs": [],
   "source": [
    "\n",
    "observations_df, metadata = ewatercycle.observation.grdc.get_grdc_data(\n",
    "    station_id=grdc_station_id,\n",
    "    start_time=experiment_start_time,\n",
    "    end_time=experiment_end_time,\n",
    ")\n",
    "grdc_obs = observations_df.rename(columns={\"streamflow\": \"Observations from GRDC\"})\n",
    "grdc_lon = metadata[\"grdc_longitude_in_arc_degree\"]\n",
    "grdc_lat = metadata[\"grdc_latitude_in_arc_degree\"]"
   ]
  },
  {
   "cell_type": "code",
   "execution_count": 26,
   "metadata": {},
   "outputs": [
    {
     "data": {
      "text/html": [
       "<div>\n",
       "<style scoped>\n",
       "    .dataframe tbody tr th:only-of-type {\n",
       "        vertical-align: middle;\n",
       "    }\n",
       "\n",
       "    .dataframe tbody tr th {\n",
       "        vertical-align: top;\n",
       "    }\n",
       "\n",
       "    .dataframe thead th {\n",
       "        text-align: right;\n",
       "    }\n",
       "</style>\n",
       "<table border=\"1\" class=\"dataframe\">\n",
       "  <thead>\n",
       "    <tr style=\"text-align: right;\">\n",
       "      <th></th>\n",
       "      <th>model output</th>\n",
       "      <th>Observations from GRDC</th>\n",
       "    </tr>\n",
       "  </thead>\n",
       "  <tbody>\n",
       "    <tr>\n",
       "      <th>2000-01-01 00:00:00</th>\n",
       "      <td>NaN</td>\n",
       "      <td>6010.0</td>\n",
       "    </tr>\n",
       "    <tr>\n",
       "      <th>2000-01-02 00:00:00</th>\n",
       "      <td>NaN</td>\n",
       "      <td>5330.0</td>\n",
       "    </tr>\n",
       "    <tr>\n",
       "      <th>2000-01-02 12:00:00</th>\n",
       "      <td>[0.12751837202813476]</td>\n",
       "      <td>NaN</td>\n",
       "    </tr>\n",
       "    <tr>\n",
       "      <th>2000-01-03 00:00:00</th>\n",
       "      <td>NaN</td>\n",
       "      <td>4700.0</td>\n",
       "    </tr>\n",
       "    <tr>\n",
       "      <th>2000-01-03 12:00:00</th>\n",
       "      <td>[0.13580070866737515]</td>\n",
       "      <td>NaN</td>\n",
       "    </tr>\n",
       "    <tr>\n",
       "      <th>...</th>\n",
       "      <td>...</td>\n",
       "      <td>...</td>\n",
       "    </tr>\n",
       "    <tr>\n",
       "      <th>2000-12-29 12:00:00</th>\n",
       "      <td>[2.4784821012140354]</td>\n",
       "      <td>NaN</td>\n",
       "    </tr>\n",
       "    <tr>\n",
       "      <th>2000-12-30 00:00:00</th>\n",
       "      <td>NaN</td>\n",
       "      <td>2300.0</td>\n",
       "    </tr>\n",
       "    <tr>\n",
       "      <th>2000-12-30 12:00:00</th>\n",
       "      <td>[2.480762512717364]</td>\n",
       "      <td>NaN</td>\n",
       "    </tr>\n",
       "    <tr>\n",
       "      <th>2000-12-31 00:00:00</th>\n",
       "      <td>NaN</td>\n",
       "      <td>2210.0</td>\n",
       "    </tr>\n",
       "    <tr>\n",
       "      <th>2000-12-31 12:00:00</th>\n",
       "      <td>[2.4711778735394283]</td>\n",
       "      <td>NaN</td>\n",
       "    </tr>\n",
       "  </tbody>\n",
       "</table>\n",
       "<p>731 rows × 2 columns</p>\n",
       "</div>"
      ],
      "text/plain": [
       "                              model output  Observations from GRDC\n",
       "2000-01-01 00:00:00                    NaN                  6010.0\n",
       "2000-01-02 00:00:00                    NaN                  5330.0\n",
       "2000-01-02 12:00:00  [0.12751837202813476]                     NaN\n",
       "2000-01-03 00:00:00                    NaN                  4700.0\n",
       "2000-01-03 12:00:00  [0.13580070866737515]                     NaN\n",
       "...                                    ...                     ...\n",
       "2000-12-29 12:00:00   [2.4784821012140354]                     NaN\n",
       "2000-12-30 00:00:00                    NaN                  2300.0\n",
       "2000-12-30 12:00:00    [2.480762512717364]                     NaN\n",
       "2000-12-31 00:00:00                    NaN                  2210.0\n",
       "2000-12-31 12:00:00   [2.4711778735394283]                     NaN\n",
       "\n",
       "[731 rows x 2 columns]"
      ]
     },
     "execution_count": 26,
     "metadata": {},
     "output_type": "execute_result"
    }
   ],
   "source": [
    "hydro_data = pd.concat([discharge_dataframe, grdc_obs], axis=1)\n",
    "hydro_data"
   ]
  },
  {
   "cell_type": "code",
   "execution_count": 27,
   "metadata": {},
   "outputs": [
    {
     "ename": "TypeError",
     "evalue": "no numeric data to plot",
     "output_type": "error",
     "traceback": [
      "\u001b[0;31m---------------------------------------------------------------------------\u001b[0m",
      "\u001b[0;31mTypeError\u001b[0m                                 Traceback (most recent call last)",
      "Cell \u001b[0;32mIn[27], line 2\u001b[0m\n\u001b[1;32m      1\u001b[0m \u001b[38;5;66;03m# Plot hydrograph and show metrics\u001b[39;00m\n\u001b[0;32m----> 2\u001b[0m \u001b[43mewatercycle\u001b[49m\u001b[38;5;241;43m.\u001b[39;49m\u001b[43manalysis\u001b[49m\u001b[38;5;241;43m.\u001b[39;49m\u001b[43mhydrograph\u001b[49m\u001b[43m(\u001b[49m\u001b[43mhydro_data\u001b[49m\u001b[43m,\u001b[49m\u001b[43m \u001b[49m\u001b[43mreference\u001b[49m\u001b[38;5;241;43m=\u001b[39;49m\u001b[38;5;124;43m'\u001b[39;49m\u001b[38;5;124;43mObservations from GRDC\u001b[39;49m\u001b[38;5;124;43m'\u001b[39;49m\u001b[43m,\u001b[49m\u001b[43m \u001b[49m\u001b[43mfilename\u001b[49m\u001b[43m \u001b[49m\u001b[38;5;241;43m=\u001b[39;49m\u001b[43m \u001b[49m\u001b[38;5;124;43m'\u001b[39;49m\u001b[38;5;124;43mexperiment_hydrograph.png\u001b[39;49m\u001b[38;5;124;43m'\u001b[39;49m\u001b[43m)\u001b[49m\n",
      "File \u001b[0;32m/opt/conda/envs/ewatercycle2/lib/python3.10/site-packages/ewatercycle/analysis/__init__.py:96\u001b[0m, in \u001b[0;36mhydrograph\u001b[0;34m(discharge, reference, precipitation, dpi, title, discharge_units, precipitation_units, figsize, filename, nbars, **kwargs)\u001b[0m\n\u001b[1;32m     93\u001b[0m ax\u001b[38;5;241m.\u001b[39mset_title(title)\n\u001b[1;32m     94\u001b[0m ax\u001b[38;5;241m.\u001b[39mset_ylabel(\u001b[38;5;124mf\u001b[39m\u001b[38;5;124m\"\u001b[39m\u001b[38;5;124mDischarge (\u001b[39m\u001b[38;5;132;01m{\u001b[39;00mdischarge_units\u001b[38;5;132;01m}\u001b[39;00m\u001b[38;5;124m)\u001b[39m\u001b[38;5;124m\"\u001b[39m)\n\u001b[0;32m---> 96\u001b[0m \u001b[43my_sim\u001b[49m\u001b[38;5;241;43m.\u001b[39;49m\u001b[43mplot\u001b[49m\u001b[43m(\u001b[49m\u001b[43max\u001b[49m\u001b[38;5;241;43m=\u001b[39;49m\u001b[43max\u001b[49m\u001b[43m,\u001b[49m\u001b[43m \u001b[49m\u001b[38;5;241;43m*\u001b[39;49m\u001b[38;5;241;43m*\u001b[39;49m\u001b[43mkwargs\u001b[49m\u001b[43m)\u001b[49m\n\u001b[1;32m     97\u001b[0m y_obs\u001b[38;5;241m.\u001b[39mplot(ax\u001b[38;5;241m=\u001b[39max, \u001b[38;5;241m*\u001b[39m\u001b[38;5;241m*\u001b[39mkwargs)\n\u001b[1;32m     99\u001b[0m handles, labels \u001b[38;5;241m=\u001b[39m ax\u001b[38;5;241m.\u001b[39mget_legend_handles_labels()\n",
      "File \u001b[0;32m/opt/conda/envs/ewatercycle2/lib/python3.10/site-packages/pandas/plotting/_core.py:1031\u001b[0m, in \u001b[0;36mPlotAccessor.__call__\u001b[0;34m(self, *args, **kwargs)\u001b[0m\n\u001b[1;32m   1028\u001b[0m             label_name \u001b[38;5;241m=\u001b[39m label_kw \u001b[38;5;129;01mor\u001b[39;00m data\u001b[38;5;241m.\u001b[39mcolumns\n\u001b[1;32m   1029\u001b[0m             data\u001b[38;5;241m.\u001b[39mcolumns \u001b[38;5;241m=\u001b[39m label_name\n\u001b[0;32m-> 1031\u001b[0m \u001b[38;5;28;01mreturn\u001b[39;00m \u001b[43mplot_backend\u001b[49m\u001b[38;5;241;43m.\u001b[39;49m\u001b[43mplot\u001b[49m\u001b[43m(\u001b[49m\u001b[43mdata\u001b[49m\u001b[43m,\u001b[49m\u001b[43m \u001b[49m\u001b[43mkind\u001b[49m\u001b[38;5;241;43m=\u001b[39;49m\u001b[43mkind\u001b[49m\u001b[43m,\u001b[49m\u001b[43m \u001b[49m\u001b[38;5;241;43m*\u001b[39;49m\u001b[38;5;241;43m*\u001b[39;49m\u001b[43mkwargs\u001b[49m\u001b[43m)\u001b[49m\n",
      "File \u001b[0;32m/opt/conda/envs/ewatercycle2/lib/python3.10/site-packages/pandas/plotting/_matplotlib/__init__.py:71\u001b[0m, in \u001b[0;36mplot\u001b[0;34m(data, kind, **kwargs)\u001b[0m\n\u001b[1;32m     69\u001b[0m         kwargs[\u001b[38;5;124m\"\u001b[39m\u001b[38;5;124max\u001b[39m\u001b[38;5;124m\"\u001b[39m] \u001b[38;5;241m=\u001b[39m \u001b[38;5;28mgetattr\u001b[39m(ax, \u001b[38;5;124m\"\u001b[39m\u001b[38;5;124mleft_ax\u001b[39m\u001b[38;5;124m\"\u001b[39m, ax)\n\u001b[1;32m     70\u001b[0m plot_obj \u001b[38;5;241m=\u001b[39m PLOT_CLASSES[kind](data, \u001b[38;5;241m*\u001b[39m\u001b[38;5;241m*\u001b[39mkwargs)\n\u001b[0;32m---> 71\u001b[0m \u001b[43mplot_obj\u001b[49m\u001b[38;5;241;43m.\u001b[39;49m\u001b[43mgenerate\u001b[49m\u001b[43m(\u001b[49m\u001b[43m)\u001b[49m\n\u001b[1;32m     72\u001b[0m plot_obj\u001b[38;5;241m.\u001b[39mdraw()\n\u001b[1;32m     73\u001b[0m \u001b[38;5;28;01mreturn\u001b[39;00m plot_obj\u001b[38;5;241m.\u001b[39mresult\n",
      "File \u001b[0;32m/opt/conda/envs/ewatercycle2/lib/python3.10/site-packages/pandas/plotting/_matplotlib/core.py:451\u001b[0m, in \u001b[0;36mMPLPlot.generate\u001b[0;34m(self)\u001b[0m\n\u001b[1;32m    449\u001b[0m \u001b[38;5;28;01mdef\u001b[39;00m \u001b[38;5;21mgenerate\u001b[39m(\u001b[38;5;28mself\u001b[39m) \u001b[38;5;241m-\u001b[39m\u001b[38;5;241m>\u001b[39m \u001b[38;5;28;01mNone\u001b[39;00m:\n\u001b[1;32m    450\u001b[0m     \u001b[38;5;28mself\u001b[39m\u001b[38;5;241m.\u001b[39m_args_adjust()\n\u001b[0;32m--> 451\u001b[0m     \u001b[38;5;28;43mself\u001b[39;49m\u001b[38;5;241;43m.\u001b[39;49m\u001b[43m_compute_plot_data\u001b[49m\u001b[43m(\u001b[49m\u001b[43m)\u001b[49m\n\u001b[1;32m    452\u001b[0m     \u001b[38;5;28mself\u001b[39m\u001b[38;5;241m.\u001b[39m_setup_subplots()\n\u001b[1;32m    453\u001b[0m     \u001b[38;5;28mself\u001b[39m\u001b[38;5;241m.\u001b[39m_make_plot()\n",
      "File \u001b[0;32m/opt/conda/envs/ewatercycle2/lib/python3.10/site-packages/pandas/plotting/_matplotlib/core.py:636\u001b[0m, in \u001b[0;36mMPLPlot._compute_plot_data\u001b[0;34m(self)\u001b[0m\n\u001b[1;32m    634\u001b[0m \u001b[38;5;66;03m# no non-numeric frames or series allowed\u001b[39;00m\n\u001b[1;32m    635\u001b[0m \u001b[38;5;28;01mif\u001b[39;00m is_empty:\n\u001b[0;32m--> 636\u001b[0m     \u001b[38;5;28;01mraise\u001b[39;00m \u001b[38;5;167;01mTypeError\u001b[39;00m(\u001b[38;5;124m\"\u001b[39m\u001b[38;5;124mno numeric data to plot\u001b[39m\u001b[38;5;124m\"\u001b[39m)\n\u001b[1;32m    638\u001b[0m \u001b[38;5;28mself\u001b[39m\u001b[38;5;241m.\u001b[39mdata \u001b[38;5;241m=\u001b[39m numeric_data\u001b[38;5;241m.\u001b[39mapply(\u001b[38;5;28mself\u001b[39m\u001b[38;5;241m.\u001b[39m_convert_to_ndarray)\n",
      "\u001b[0;31mTypeError\u001b[0m: no numeric data to plot"
     ]
    },
    {
     "data": {
      "image/png": "[encoded data removed]",
      "text/plain": [
       "<Figure size 1000x1000 with 2 Axes>"
      ]
     },
     "metadata": {},
     "output_type": "display_data"
    }
   ],
   "source": [
    "\n",
    "\n",
    "# Plot hydrograph and show metrics\n",
    "ewatercycle.analysis.hydrograph(hydro_data, reference='Observations from GRDC', filename = 'experiment_hydrograph.png')"
   ]
  },
  {
   "cell_type": "markdown",
   "metadata": {},
   "source": [
    "It is good practice to remove a model object when done using ```.finalize()```. For small models like this, it doesn't matter too much, but larger models that run in containers keep using resources when not ```finalized```."
   ]
  },
  {
   "cell_type": "code",
   "execution_count": 28,
   "metadata": {},
   "outputs": [],
   "source": [
    "experiment_model.finalize()"
   ]
  },
  {
   "cell_type": "code",
   "execution_count": null,
   "metadata": {},
   "outputs": [],
   "source": []
  }
 ],
 "metadata": {
  "kernelspec": {
   "display_name": "Python 3 (ipykernel)",
   "language": "python",
   "name": "python3"
  },
  "language_info": {
   "codemirror_mode": {
    "name": "ipython",
    "version": 3
   },
   "file_extension": ".py",
   "mimetype": "text/x-python",
   "name": "python",
   "nbconvert_exporter": "python",
   "pygments_lexer": "ipython3",
   "version": "3.10.13"
  }
 },
 "nbformat": 4,
 "nbformat_minor": 4
}
