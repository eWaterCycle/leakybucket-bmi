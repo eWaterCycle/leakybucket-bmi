{
 "cells": [
  {
   "cell_type": "markdown",
   "metadata": {},
   "source": [
    "# LeakyBucket model BMI demo\n",
    "\n",
    "In this notebook we demonstrate the leakybucket Basic Model Interface. This BMI has the following model structure implemented:\n",
    "\n",
    "<img src=\"diagram.png\" alt=\"diagram\" width=\"200\"/>\n",
    "\n",
    "The implementation can be found in `src/leakybucket/leakybucket_bmi.py`"
   ]
  },
  {
   "cell_type": "markdown",
   "metadata": {},
   "source": [
    "To be able to initialize the BMI, we need a configuration file which contains the \"leakiness\" parameter, as well as the forcing file locations.\n",
    "\n",
    "For forcing we use the eWaterCycle generic forcing generator. This can generate forcing data with ESMValTool from ERA5 data (if available on your machine), as well as CMIP6 data (which will be downloaded automatically)."
   ]
  },
  {
   "cell_type": "code",
   "execution_count": 1,
   "metadata": {},
   "outputs": [
    {
     "name": "stderr",
     "output_type": "stream",
     "text": [
      "/opt/conda/envs/ewatercycle2/lib/python3.10/site-packages/esmvalcore/experimental/_warnings.py:13: UserWarning: \n",
      "  Thank you for trying out the new ESMValCore API.\n",
      "  Note that this API is experimental and may be subject to change.\n",
      "  More info: https://github.com/ESMValGroup/ESMValCore/issues/498\n"
     ]
    }
   ],
   "source": [
    "from leakybucket.leakybucket_bmi import LeakyBucketBmi\n",
    "from ewatercycle.base.forcing import GenericLumpedForcing\n",
    "import ewatercycle.observation.grdc\n",
    "import ewatercycle.analysis\n",
    "from pathlib import Path\n",
    "import pandas as pd\n",
    "import numpy as np\n",
    "\n",
    "shape = Path(ewatercycle.__file__).parent / \"testing/data/Rhine/Rhine.shp\"\n",
    "\n",
    "\n",
    "grdc_station_id = \"6335020\"  # GRDC station ID\n",
    "basin_name = \"Rhine\"\n",
    "\n",
    "experiment_start_time=\"2000-01-01T00:00:00Z\"\n",
    "experiment_end_time=\"2000-12-31T00:00:00Z\"\n"
   ]
  },
  {
   "cell_type": "markdown",
   "metadata": {},
   "source": [
    "TEXT ABOUT CREATING FORCING"
   ]
  },
  {
   "cell_type": "code",
   "execution_count": 2,
   "metadata": {},
   "outputs": [
    {
     "name": "stderr",
     "output_type": "stream",
     "text": [
      "WARNING:esmvalcore.config._dask:Using the Dask basic scheduler. This may lead to slow computations and out-of-memory errors. Note that the basic scheduler may still be the best choice for preprocessor functions that are not lazy. In that case, you can safely ignore this warning. See https://docs.esmvaltool.org/projects/ESMValCore/en/latest/quickstart/configure.html#dask-distributed-configuration for more information. \n",
      "WARNING:esmvalcore._recipe.check:Preprocessor function area_statistics works best when at least one supplementary variable of ['areacella', 'areacello'] is defined in the recipe for Dataset:\n",
      "{'diagnostic': 'diagnostic',\n",
      " 'variable_group': 'pr',\n",
      " 'dataset': 'ERA5',\n",
      " 'project': 'OBS6',\n",
      " 'mip': 'day',\n",
      " 'short_name': 'pr',\n",
      " 'alias': 'ERA5',\n",
      " 'frequency': 'day',\n",
      " 'long_name': 'Precipitation',\n",
      " 'modeling_realm': ['atmos'],\n",
      " 'original_short_name': 'pr',\n",
      " 'preprocessor': 'pr',\n",
      " 'recipe_dataset_index': 0,\n",
      " 'standard_name': 'precipitation_flux',\n",
      " 'tier': 3,\n",
      " 'timerange': '2000/2000',\n",
      " 'type': 'reanaly',\n",
      " 'units': 'kg m-2 s-1',\n",
      " 'version': 1}\n",
      "session: 'ewcrepn_wg324o_20240325_133732'.\n",
      "WARNING:esmvalcore._recipe.check:Preprocessor function area_statistics works best when at least one supplementary variable of ['areacella', 'areacello'] is defined in the recipe for Dataset:\n",
      "{'diagnostic': 'diagnostic',\n",
      " 'variable_group': 'tas',\n",
      " 'dataset': 'ERA5',\n",
      " 'project': 'OBS6',\n",
      " 'mip': 'day',\n",
      " 'short_name': 'tas',\n",
      " 'alias': 'ERA5',\n",
      " 'frequency': 'day',\n",
      " 'long_name': 'Near-Surface Air Temperature',\n",
      " 'modeling_realm': ['atmos'],\n",
      " 'original_short_name': 'tas',\n",
      " 'preprocessor': 'tas',\n",
      " 'recipe_dataset_index': 0,\n",
      " 'standard_name': 'air_temperature',\n",
      " 'tier': 3,\n",
      " 'timerange': '2000/2000',\n",
      " 'type': 'reanaly',\n",
      " 'units': 'K',\n",
      " 'version': 1}\n",
      "session: 'ewcrepn_wg324o_20240325_133732'.\n",
      "WARNING:esmvalcore._recipe.check:Preprocessor function area_statistics works best when at least one supplementary variable of ['areacella', 'areacello'] is defined in the recipe for Dataset:\n",
      "{'diagnostic': 'diagnostic',\n",
      " 'variable_group': 'tasmin',\n",
      " 'dataset': 'ERA5',\n",
      " 'project': 'OBS6',\n",
      " 'mip': 'day',\n",
      " 'short_name': 'tasmin',\n",
      " 'alias': 'ERA5',\n",
      " 'frequency': 'day',\n",
      " 'long_name': 'Daily Minimum Near-Surface Air Temperature',\n",
      " 'modeling_realm': ['atmos'],\n",
      " 'original_short_name': 'tasmin',\n",
      " 'preprocessor': 'tasmin',\n",
      " 'recipe_dataset_index': 0,\n",
      " 'standard_name': 'air_temperature',\n",
      " 'tier': 3,\n",
      " 'timerange': '2000/2000',\n",
      " 'type': 'reanaly',\n",
      " 'units': 'K',\n",
      " 'version': 1}\n",
      "session: 'ewcrepn_wg324o_20240325_133732'.\n",
      "WARNING:esmvalcore._recipe.check:Preprocessor function area_statistics works best when at least one supplementary variable of ['areacella', 'areacello'] is defined in the recipe for Dataset:\n",
      "{'diagnostic': 'diagnostic',\n",
      " 'variable_group': 'tasmax',\n",
      " 'dataset': 'ERA5',\n",
      " 'project': 'OBS6',\n",
      " 'mip': 'day',\n",
      " 'short_name': 'tasmax',\n",
      " 'alias': 'ERA5',\n",
      " 'frequency': 'day',\n",
      " 'long_name': 'Daily Maximum Near-Surface Air Temperature',\n",
      " 'modeling_realm': ['atmos'],\n",
      " 'original_short_name': 'tasmax',\n",
      " 'preprocessor': 'tasmax',\n",
      " 'recipe_dataset_index': 0,\n",
      " 'standard_name': 'air_temperature',\n",
      " 'tier': 3,\n",
      " 'timerange': '2000/2000',\n",
      " 'type': 'reanaly',\n",
      " 'units': 'K',\n",
      " 'version': 1}\n",
      "session: 'ewcrepn_wg324o_20240325_133732'.\n"
     ]
    }
   ],
   "source": [
    "ERA5_forcing = GenericLumpedForcing.generate(\n",
    "    dataset=\"ERA5\",\n",
    "    start_time=experiment_start_time,\n",
    "    end_time=experiment_end_time,\n",
    "    shape=shape.absolute(),\n",
    ")"
   ]
  },
  {
   "cell_type": "markdown",
   "metadata": {},
   "source": [
    "Now we have the forcing data available we can prepare the configuration file:"
   ]
  },
  {
   "cell_type": "code",
   "execution_count": 3,
   "metadata": {},
   "outputs": [],
   "source": [
    "experiment_config_file = f\"\"\"{{\n",
    "    \"precipitation_file\": \"{ERA5_forcing.directory / ERA5_forcing.pr}\",\n",
    "    \"temperature_file\": \"{ERA5_forcing.directory / ERA5_forcing.tas}\",\n",
    "    \"leakiness\": 0.05\n",
    "}}\n",
    "\"\"\"\n",
    "\n",
    "with open(\"ERA5_leakybucket_config.json\", \"w\") as f:\n",
    "    f.write(experiment_config_file)"
   ]
  },
  {
   "cell_type": "markdown",
   "metadata": {},
   "source": [
    "With the configuration file ready, we can define the model and initialize it. To clearly indicate that we are creating an instance of the class ```LeakyBucketBMI``` we use ```experiment_model``` as the name for the model object for this (demo) experiment."
   ]
  },
  {
   "cell_type": "code",
   "execution_count": 4,
   "metadata": {},
   "outputs": [],
   "source": [
    "experiment_model = LeakyBucketBmi()\n",
    "experiment_model.initialize(config_file=\"ERA5_leakybucket_config.json\")"
   ]
  },
  {
   "cell_type": "code",
   "execution_count": 7,
   "metadata": {},
   "outputs": [
    {
     "data": {
      "text/plain": [
       "946728000"
      ]
     },
     "execution_count": 7,
     "metadata": {},
     "output_type": "execute_result"
    }
   ],
   "source": [
    "experiment_model.get_current_time()"
   ]
  },
  {
   "cell_type": "markdown",
   "metadata": {},
   "source": [
    "We can now use the `.update()` method to advance the model one time step.\n",
    "After updating the model, we can request the current discharge using `.get_value(\"discharge\")`.\n",
    "\n",
    "We store this discharge in a list. For plotting, we also request the current model time (which is in seconds since 1970), and covert that to a pandas Timestamp."
   ]
  },
  {
   "cell_type": "code",
   "execution_count": 8,
   "metadata": {},
   "outputs": [],
   "source": [
    "discharge = []\n",
    "time = []\n",
    "while experiment_model.get_current_time() < experiment_model.get_end_time():\n",
    "    experiment_model.update()\n",
    "    discharge_this_timestep = experiment_model.get_value(\"discharge\", np.array([0.]))\n",
    "    discharge.append(discharge_this_timestep[0])\n",
    "    time.append(pd.Timestamp(experiment_model.get_current_time(), unit=\"s\"))"
   ]
  },
  {
   "cell_type": "markdown",
   "metadata": {},
   "source": [
    "We can plot the output discharge directly"
   ]
  },
  {
   "cell_type": "code",
   "execution_count": 9,
   "metadata": {},
   "outputs": [
    {
     "data": {
      "text/plain": [
       "Text(0.5, 0, 'Time')"
      ]
     },
     "execution_count": 9,
     "metadata": {},
     "output_type": "execute_result"
    },
    {
     "data": {
      "image/png": "[encoded data removed]",
      "text/plain": [
       "<Figure size 640x480 with 1 Axes>"
      ]
     },
     "metadata": {},
     "output_type": "display_data"
    }
   ],
   "source": [
    "import matplotlib.pyplot as plt\n",
    "plt.plot(time, discharge)\n",
    "\n",
    "plt.ylabel(f\"Discharge [{experiment_model.get_var_units('discharge')}]\")\n",
    "plt.xlabel(\"Time\")"
   ]
  },
  {
   "cell_type": "markdown",
   "metadata": {},
   "source": [
    "Now we can plot our hydrograph.\n",
    "\n",
    "Note that the unit of discharge is in mm/d. Conversion to m3/s requires the area of the catchment."
   ]
  },
  {
   "cell_type": "code",
   "execution_count": 10,
   "metadata": {},
   "outputs": [
    {
     "data": {
      "text/html": [
       "<div>\n",
       "<style scoped>\n",
       "    .dataframe tbody tr th:only-of-type {\n",
       "        vertical-align: middle;\n",
       "    }\n",
       "\n",
       "    .dataframe tbody tr th {\n",
       "        vertical-align: top;\n",
       "    }\n",
       "\n",
       "    .dataframe thead th {\n",
       "        text-align: right;\n",
       "    }\n",
       "</style>\n",
       "<table border=\"1\" class=\"dataframe\">\n",
       "  <thead>\n",
       "    <tr style=\"text-align: right;\">\n",
       "      <th></th>\n",
       "      <th>model output</th>\n",
       "    </tr>\n",
       "  </thead>\n",
       "  <tbody>\n",
       "    <tr>\n",
       "      <th>2000-01-02 12:00:00</th>\n",
       "      <td>0.127518</td>\n",
       "    </tr>\n",
       "    <tr>\n",
       "      <th>2000-01-03 12:00:00</th>\n",
       "      <td>0.135801</td>\n",
       "    </tr>\n",
       "    <tr>\n",
       "      <th>2000-01-04 12:00:00</th>\n",
       "      <td>0.137414</td>\n",
       "    </tr>\n",
       "    <tr>\n",
       "      <th>2000-01-05 12:00:00</th>\n",
       "      <td>0.311857</td>\n",
       "    </tr>\n",
       "    <tr>\n",
       "      <th>2000-01-06 12:00:00</th>\n",
       "      <td>0.349709</td>\n",
       "    </tr>\n",
       "    <tr>\n",
       "      <th>...</th>\n",
       "      <td>...</td>\n",
       "    </tr>\n",
       "    <tr>\n",
       "      <th>2000-12-27 12:00:00</th>\n",
       "      <td>2.516473</td>\n",
       "    </tr>\n",
       "    <tr>\n",
       "      <th>2000-12-28 12:00:00</th>\n",
       "      <td>2.518818</td>\n",
       "    </tr>\n",
       "    <tr>\n",
       "      <th>2000-12-29 12:00:00</th>\n",
       "      <td>2.478482</td>\n",
       "    </tr>\n",
       "    <tr>\n",
       "      <th>2000-12-30 12:00:00</th>\n",
       "      <td>2.480763</td>\n",
       "    </tr>\n",
       "    <tr>\n",
       "      <th>2000-12-31 12:00:00</th>\n",
       "      <td>2.471178</td>\n",
       "    </tr>\n",
       "  </tbody>\n",
       "</table>\n",
       "<p>365 rows × 1 columns</p>\n",
       "</div>"
      ],
      "text/plain": [
       "                     model output\n",
       "2000-01-02 12:00:00      0.127518\n",
       "2000-01-03 12:00:00      0.135801\n",
       "2000-01-04 12:00:00      0.137414\n",
       "2000-01-05 12:00:00      0.311857\n",
       "2000-01-06 12:00:00      0.349709\n",
       "...                           ...\n",
       "2000-12-27 12:00:00      2.516473\n",
       "2000-12-28 12:00:00      2.518818\n",
       "2000-12-29 12:00:00      2.478482\n",
       "2000-12-30 12:00:00      2.480763\n",
       "2000-12-31 12:00:00      2.471178\n",
       "\n",
       "[365 rows x 1 columns]"
      ]
     },
     "execution_count": 10,
     "metadata": {},
     "output_type": "execute_result"
    }
   ],
   "source": [
    "discharge_dataframe = pd.DataFrame({'model output': discharge}, index=pd.to_datetime(time))\n",
    "discharge_dataframe"
   ]
  },
  {
   "cell_type": "code",
   "execution_count": 11,
   "metadata": {},
   "outputs": [],
   "source": [
    "\n",
    "observations_df, metadata = ewatercycle.observation.grdc.get_grdc_data(\n",
    "    station_id=grdc_station_id,\n",
    "    start_time=experiment_start_time,\n",
    "    end_time=experiment_end_time,\n",
    ")\n",
    "grdc_obs = observations_df.rename(columns={\"streamflow\": \"Observations from GRDC\"})\n",
    "grdc_lon = metadata[\"grdc_longitude_in_arc_degree\"]\n",
    "grdc_lat = metadata[\"grdc_latitude_in_arc_degree\"]"
   ]
  },
  {
   "cell_type": "code",
   "execution_count": 12,
   "metadata": {},
   "outputs": [
    {
     "data": {
      "text/plain": [
       "DatetimeIndex(['2000-01-01', '2000-01-02', '2000-01-03', '2000-01-04',\n",
       "               '2000-01-05', '2000-01-06', '2000-01-07', '2000-01-08',\n",
       "               '2000-01-09', '2000-01-10',\n",
       "               ...\n",
       "               '2000-12-22', '2000-12-23', '2000-12-24', '2000-12-25',\n",
       "               '2000-12-26', '2000-12-27', '2000-12-28', '2000-12-29',\n",
       "               '2000-12-30', '2000-12-31'],\n",
       "              dtype='datetime64[ns]', name='time', length=366, freq=None)"
      ]
     },
     "execution_count": 12,
     "metadata": {},
     "output_type": "execute_result"
    }
   ],
   "source": [
    "observations_df.index"
   ]
  },
  {
   "cell_type": "code",
   "execution_count": 13,
   "metadata": {},
   "outputs": [
    {
     "data": {
      "text/html": [
       "<div>\n",
       "<style scoped>\n",
       "    .dataframe tbody tr th:only-of-type {\n",
       "        vertical-align: middle;\n",
       "    }\n",
       "\n",
       "    .dataframe tbody tr th {\n",
       "        vertical-align: top;\n",
       "    }\n",
       "\n",
       "    .dataframe thead th {\n",
       "        text-align: right;\n",
       "    }\n",
       "</style>\n",
       "<table border=\"1\" class=\"dataframe\">\n",
       "  <thead>\n",
       "    <tr style=\"text-align: right;\">\n",
       "      <th></th>\n",
       "      <th>model output</th>\n",
       "      <th>Observations from GRDC</th>\n",
       "    </tr>\n",
       "  </thead>\n",
       "  <tbody>\n",
       "    <tr>\n",
       "      <th>2000-01-01 00:00:00</th>\n",
       "      <td>NaN</td>\n",
       "      <td>6010.0</td>\n",
       "    </tr>\n",
       "    <tr>\n",
       "      <th>2000-01-02 00:00:00</th>\n",
       "      <td>NaN</td>\n",
       "      <td>5330.0</td>\n",
       "    </tr>\n",
       "    <tr>\n",
       "      <th>2000-01-02 12:00:00</th>\n",
       "      <td>0.127518</td>\n",
       "      <td>NaN</td>\n",
       "    </tr>\n",
       "    <tr>\n",
       "      <th>2000-01-03 00:00:00</th>\n",
       "      <td>NaN</td>\n",
       "      <td>4700.0</td>\n",
       "    </tr>\n",
       "    <tr>\n",
       "      <th>2000-01-03 12:00:00</th>\n",
       "      <td>0.135801</td>\n",
       "      <td>NaN</td>\n",
       "    </tr>\n",
       "    <tr>\n",
       "      <th>...</th>\n",
       "      <td>...</td>\n",
       "      <td>...</td>\n",
       "    </tr>\n",
       "    <tr>\n",
       "      <th>2000-12-29 12:00:00</th>\n",
       "      <td>2.478482</td>\n",
       "      <td>NaN</td>\n",
       "    </tr>\n",
       "    <tr>\n",
       "      <th>2000-12-30 00:00:00</th>\n",
       "      <td>NaN</td>\n",
       "      <td>2300.0</td>\n",
       "    </tr>\n",
       "    <tr>\n",
       "      <th>2000-12-30 12:00:00</th>\n",
       "      <td>2.480763</td>\n",
       "      <td>NaN</td>\n",
       "    </tr>\n",
       "    <tr>\n",
       "      <th>2000-12-31 00:00:00</th>\n",
       "      <td>NaN</td>\n",
       "      <td>2210.0</td>\n",
       "    </tr>\n",
       "    <tr>\n",
       "      <th>2000-12-31 12:00:00</th>\n",
       "      <td>2.471178</td>\n",
       "      <td>NaN</td>\n",
       "    </tr>\n",
       "  </tbody>\n",
       "</table>\n",
       "<p>731 rows × 2 columns</p>\n",
       "</div>"
      ],
      "text/plain": [
       "                     model output  Observations from GRDC\n",
       "2000-01-01 00:00:00           NaN                  6010.0\n",
       "2000-01-02 00:00:00           NaN                  5330.0\n",
       "2000-01-02 12:00:00      0.127518                     NaN\n",
       "2000-01-03 00:00:00           NaN                  4700.0\n",
       "2000-01-03 12:00:00      0.135801                     NaN\n",
       "...                           ...                     ...\n",
       "2000-12-29 12:00:00      2.478482                     NaN\n",
       "2000-12-30 00:00:00           NaN                  2300.0\n",
       "2000-12-30 12:00:00      2.480763                     NaN\n",
       "2000-12-31 00:00:00           NaN                  2210.0\n",
       "2000-12-31 12:00:00      2.471178                     NaN\n",
       "\n",
       "[731 rows x 2 columns]"
      ]
     },
     "execution_count": 13,
     "metadata": {},
     "output_type": "execute_result"
    }
   ],
   "source": [
    "hydro_data = pd.concat([discharge_dataframe, grdc_obs], axis=1)\n",
    "hydro_data"
   ]
  },
  {
   "cell_type": "code",
   "execution_count": 14,
   "metadata": {},
   "outputs": [
    {
     "name": "stderr",
     "output_type": "stream",
     "text": [
      "/opt/conda/envs/ewatercycle2/lib/python3.10/site-packages/HydroErr/HydroErr.py:6248: UserWarning: Row(s) [  0   1   2   3   4   5   6   7   8   9  10  11  12  13  14  15  16  17\n",
      "  18  19  20  21  22  23  24  25  26  27  28  29  30  31  32  33  34  35\n",
      "  36  37  38  39  40  41  42  43  44  45  46  47  48  49  50  51  52  53\n",
      "  54  55  56  57  58  59  60  61  62  63  64  65  66  67  68  69  70  71\n",
      "  72  73  74  75  76  77  78  79  80  81  82  83  84  85  86  87  88  89\n",
      "  90  91  92  93  94  95  96  97  98  99 100 101 102 103 104 105 106 107\n",
      " 108 109 110 111 112 113 114 115 116 117 118 119 120 121 122 123 124 125\n",
      " 126 127 128 129 130 131 132 133 134 135 136 137 138 139 140 141 142 143\n",
      " 144 145 146 147 148 149 150 151 152 153 154 155 156 157 158 159 160 161\n",
      " 162 163 164 165 166 167 168 169 170 171 172 173 174 175 176 177 178 179\n",
      " 180 181 182 183 184 185 186 187 188 189 190 191 192 193 194 195 196 197\n",
      " 198 199 200 201 202 203 204 205 206 207 208 209 210 211 212 213 214 215\n",
      " 216 217 218 219 220 221 222 223 224 225 226 227 228 229 230 231 232 233\n",
      " 234 235 236 237 238 239 240 241 242 243 244 245 246 247 248 249 250 251\n",
      " 252 253 254 255 256 257 258 259 260 261 262 263 264 265 266 267 268 269\n",
      " 270 271 272 273 274 275 276 277 278 279 280 281 282 283 284 285 286 287\n",
      " 288 289 290 291 292 293 294 295 296 297 298 299 300 301 302 303 304 305\n",
      " 306 307 308 309 310 311 312 313 314 315 316 317 318 319 320 321 322 323\n",
      " 324 325 326 327 328 329 330 331 332 333 334 335 336 337 338 339 340 341\n",
      " 342 343 344 345 346 347 348 349 350 351 352 353 354 355 356 357 358 359\n",
      " 360 361 362 363 364 365 366 367 368 369 370 371 372 373 374 375 376 377\n",
      " 378 379 380 381 382 383 384 385 386 387 388 389 390 391 392 393 394 395\n",
      " 396 397 398 399 400 401 402 403 404 405 406 407 408 409 410 411 412 413\n",
      " 414 415 416 417 418 419 420 421 422 423 424 425 426 427 428 429 430 431\n",
      " 432 433 434 435 436 437 438 439 440 441 442 443 444 445 446 447 448 449\n",
      " 450 451 452 453 454 455 456 457 458 459 460 461 462 463 464 465 466 467\n",
      " 468 469 470 471 472 473 474 475 476 477 478 479 480 481 482 483 484 485\n",
      " 486 487 488 489 490 491 492 493 494 495 496 497 498 499 500 501 502 503\n",
      " 504 505 506 507 508 509 510 511 512 513 514 515 516 517 518 519 520 521\n",
      " 522 523 524 525 526 527 528 529 530 531 532 533 534 535 536 537 538 539\n",
      " 540 541 542 543 544 545 546 547 548 549 550 551 552 553 554 555 556 557\n",
      " 558 559 560 561 562 563 564 565 566 567 568 569 570 571 572 573 574 575\n",
      " 576 577 578 579 580 581 582 583 584 585 586 587 588 589 590 591 592 593\n",
      " 594 595 596 597 598 599 600 601 602 603 604 605 606 607 608 609 610 611\n",
      " 612 613 614 615 616 617 618 619 620 621 622 623 624 625 626 627 628 629\n",
      " 630 631 632 633 634 635 636 637 638 639 640 641 642 643 644 645 646 647\n",
      " 648 649 650 651 652 653 654 655 656 657 658 659 660 661 662 663 664 665\n",
      " 666 667 668 669 670 671 672 673 674 675 676 677 678 679 680 681 682 683\n",
      " 684 685 686 687 688 689 690 691 692 693 694 695 696 697 698 699 700 701\n",
      " 702 703 704 705 706 707 708 709 710 711 712 713 714 715 716 717 718 719\n",
      " 720 721 722 723 724 725 726 727 728 729 730] contained NaN values and the row(s) have been removed (Rows are zero indexed).\n",
      "/opt/conda/envs/ewatercycle2/lib/python3.10/site-packages/numpy/core/fromnumeric.py:3504: RuntimeWarning: Mean of empty slice.\n",
      "/opt/conda/envs/ewatercycle2/lib/python3.10/site-packages/numpy/core/_methods.py:129: RuntimeWarning: invalid value encountered in scalar divide\n",
      "/opt/conda/envs/ewatercycle2/lib/python3.10/site-packages/HydroErr/HydroErr.py:2861: RuntimeWarning: invalid value encountered in scalar divide\n",
      "/opt/conda/envs/ewatercycle2/lib/python3.10/site-packages/numpy/core/_methods.py:206: RuntimeWarning: Degrees of freedom <= 0 for slice\n",
      "/opt/conda/envs/ewatercycle2/lib/python3.10/site-packages/numpy/core/_methods.py:163: RuntimeWarning: invalid value encountered in divide\n",
      "/opt/conda/envs/ewatercycle2/lib/python3.10/site-packages/numpy/core/_methods.py:198: RuntimeWarning: invalid value encountered in scalar divide\n",
      "/opt/conda/envs/ewatercycle2/lib/python3.10/site-packages/HydroErr/HydroErr.py:3118: RuntimeWarning: invalid value encountered in scalar divide\n",
      "/opt/conda/envs/ewatercycle2/lib/python3.10/site-packages/HydroErr/HydroErr.py:3612: RuntimeWarning: invalid value encountered in scalar divide\n"
     ]
    },
    {
     "data": {
      "text/plain": [
       "(<Figure size 1000x1000 with 2 Axes>,\n",
       " (<Axes: title={'center': 'Hydrograph'}, ylabel='Discharge (m$^3$ s$^{-1}$)'>,\n",
       "  <Axes: >))"
      ]
     },
     "execution_count": 14,
     "metadata": {},
     "output_type": "execute_result"
    },
    {
     "data": {
      "image/png": "[encoded data removed]",
      "text/plain": [
       "<Figure size 1000x1000 with 2 Axes>"
      ]
     },
     "metadata": {},
     "output_type": "display_data"
    }
   ],
   "source": [
    "\n",
    "\n",
    "# Plot hydrograph and show metrics\n",
    "ewatercycle.analysis.hydrograph(hydro_data, reference='Observations from GRDC', filename = 'experiment_hydrograph.png')"
   ]
  },
  {
   "cell_type": "markdown",
   "metadata": {},
   "source": [
    "It is good practice to remove a model object when done using ```.finalize()```. For small models like this, it doesn't matter too much, but larger models that run in containers keep using resources when not ```finalized```."
   ]
  },
  {
   "cell_type": "code",
   "execution_count": null,
   "metadata": {},
   "outputs": [],
   "source": [
    "experiment_model.finalize()"
   ]
  },
  {
   "cell_type": "code",
   "execution_count": null,
   "metadata": {},
   "outputs": [],
   "source": []
  }
 ],
 "metadata": {
  "kernelspec": {
   "display_name": "Python 3 (ipykernel)",
   "language": "python",
   "name": "python3"
  },
  "language_info": {
   "codemirror_mode": {
    "name": "ipython",
    "version": 3
   },
   "file_extension": ".py",
   "mimetype": "text/x-python",
   "name": "python",
   "nbconvert_exporter": "python",
   "pygments_lexer": "ipython3",
   "version": "3.10.13"
  }
 },
 "nbformat": 4,
 "nbformat_minor": 4
}
